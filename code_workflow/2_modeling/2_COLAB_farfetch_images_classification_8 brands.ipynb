{
  "nbformat": 4,
  "nbformat_minor": 0,
  "metadata": {
    "colab": {
      "name": "2_farfetch_modeling_colab_8 brands.ipynb",
      "provenance": [],
      "collapsed_sections": []
    },
    "kernelspec": {
      "name": "python3",
      "display_name": "Python 3"
    },
    "language_info": {
      "name": "python"
    },
    "accelerator": "GPU"
  },
  "cells": [
    {
      "cell_type": "markdown",
      "metadata": {
        "id": "gJiSbGGBgJ6S"
      },
      "source": [
        "# **8 brands** - YSL, Prada, Gucci, Hermès, LV, Chanel, Fendi, Balenciaga"
      ]
    },
    {
      "cell_type": "code",
      "metadata": {
        "colab": {
          "base_uri": "https://localhost:8080/"
        },
        "id": "2GABXkbM3XQZ",
        "outputId": "db12e53e-5355-4b07-acfb-31c1caf170f0"
      },
      "source": [
        "from google.colab import drive\n",
        "\n",
        "drive.mount('/content/grive')  "
      ],
      "execution_count": null,
      "outputs": [
        {
          "output_type": "stream",
          "text": [
            "Mounted at /content/grive\n"
          ],
          "name": "stdout"
        }
      ]
    },
    {
      "cell_type": "code",
      "metadata": {
        "colab": {
          "base_uri": "https://localhost:8080/"
        },
        "id": "usry83UB5ywt",
        "outputId": "fc29aa6d-4ccb-4ece-cf4e-37f274471589"
      },
      "source": [
        "!nvidia-smi"
      ],
      "execution_count": null,
      "outputs": [
        {
          "output_type": "stream",
          "text": [
            "Thu Aug 19 22:50:35 2021       \n",
            "+-----------------------------------------------------------------------------+\n",
            "| NVIDIA-SMI 470.57.02    Driver Version: 460.32.03    CUDA Version: 11.2     |\n",
            "|-------------------------------+----------------------+----------------------+\n",
            "| GPU  Name        Persistence-M| Bus-Id        Disp.A | Volatile Uncorr. ECC |\n",
            "| Fan  Temp  Perf  Pwr:Usage/Cap|         Memory-Usage | GPU-Util  Compute M. |\n",
            "|                               |                      |               MIG M. |\n",
            "|===============================+======================+======================|\n",
            "|   0  Tesla P4            Off  | 00000000:00:04.0 Off |                    0 |\n",
            "| N/A   42C    P8     7W /  75W |      0MiB /  7611MiB |      0%      Default |\n",
            "|                               |                      |                  N/A |\n",
            "+-------------------------------+----------------------+----------------------+\n",
            "                                                                               \n",
            "+-----------------------------------------------------------------------------+\n",
            "| Processes:                                                                  |\n",
            "|  GPU   GI   CI        PID   Type   Process name                  GPU Memory |\n",
            "|        ID   ID                                                   Usage      |\n",
            "|=============================================================================|\n",
            "|  No running processes found                                                 |\n",
            "+-----------------------------------------------------------------------------+\n"
          ],
          "name": "stdout"
        }
      ]
    },
    {
      "cell_type": "code",
      "metadata": {
        "id": "wCRQ-GeV3eeM"
      },
      "source": [
        "import pandas as pd\n",
        "import numpy as np\n",
        "\n",
        "import matplotlib.pyplot as plt\n",
        "%matplotlib inline\n",
        "\n",
        "import os #shutil\n",
        "import os.path\n",
        "import pathlib\n",
        "from pathlib import Path\n",
        "from glob import glob\n",
        "\n",
        "\n",
        "import PIL\n",
        "import PIL.Image\n",
        "#import tensorflow as tf\n",
        "\n",
        "\n",
        "import cv2\n",
        "from keras.preprocessing.image import ImageDataGenerator"
      ],
      "execution_count": null,
      "outputs": []
    },
    {
      "cell_type": "code",
      "metadata": {
        "colab": {
          "base_uri": "https://localhost:8080/"
        },
        "id": "IUxljmem5rf8",
        "outputId": "410912fb-5166-4d6b-ba70-c621fd292203"
      },
      "source": [
        "os.chdir(\"/content/grive/My Drive/grive/farfetch\")\n",
        "!ls\n",
        "\n",
        "data_dir = '/content/grive/My Drive/grive/farfetch/bag_8'"
      ],
      "execution_count": null,
      "outputs": [
        {
          "output_type": "stream",
          "text": [
            "bag_  bag_8  bag_8_img_aug  bag_img_aug  ff_bag_8_v1.h5\n"
          ],
          "name": "stdout"
        }
      ]
    },
    {
      "cell_type": "code",
      "metadata": {
        "colab": {
          "base_uri": "https://localhost:8080/",
          "height": 58
        },
        "id": "1QmhJMyn_Unv",
        "outputId": "7a2c0724-09bf-4ce3-afba-bd47d590c875"
      },
      "source": [
        "os.getcwd()"
      ],
      "execution_count": null,
      "outputs": [
        {
          "output_type": "execute_result",
          "data": {
            "application/vnd.google.colaboratory.intrinsic+json": {
              "type": "string"
            },
            "text/plain": [
              "'/content/grive/My Drive/grive/farfetch'"
            ]
          },
          "metadata": {},
          "execution_count": 5
        }
      ]
    },
    {
      "cell_type": "code",
      "metadata": {
        "id": "ZV7zt9i34pkL"
      },
      "source": [
        "image_gen = ImageDataGenerator(rescale=1./255,\n",
        "                              validation_split=0.2) "
      ],
      "execution_count": null,
      "outputs": []
    },
    {
      "cell_type": "code",
      "metadata": {
        "id": "T3qQ45mp5j5h"
      },
      "source": [
        "batch_size = 32  \n",
        "img_height = 150  \n",
        "img_width = 150 "
      ],
      "execution_count": null,
      "outputs": []
    },
    {
      "cell_type": "code",
      "metadata": {
        "colab": {
          "base_uri": "https://localhost:8080/"
        },
        "id": "gAJgvRaE5kGe",
        "outputId": "d04f6865-3126-4773-80f0-1b055c2931ff"
      },
      "source": [
        "train_generator = image_gen.flow_from_directory(data_dir,\n",
        "                                          target_size=(img_height, img_width),\n",
        "                                          batch_size=batch_size,\n",
        "                                          seed=42,\n",
        "                                          shuffle=False,\n",
        "                                          subset='training',           # train_val_split\n",
        "                                          class_mode='categorical')"
      ],
      "execution_count": null,
      "outputs": [
        {
          "output_type": "stream",
          "text": [
            "Found 2266 images belonging to 8 classes.\n"
          ],
          "name": "stdout"
        }
      ]
    },
    {
      "cell_type": "code",
      "metadata": {
        "colab": {
          "base_uri": "https://localhost:8080/"
        },
        "id": "SJrpfmiu5kOO",
        "outputId": "11c518b5-a8d2-4612-bc5f-a87a6bbd3555"
      },
      "source": [
        "val_generator = image_gen.flow_from_directory(data_dir,\n",
        "                                        target_size=(img_height, img_width),\n",
        "                                        batch_size=batch_size,\n",
        "                                        seed=42,\n",
        "                                        shuffle=False,\n",
        "                                        subset='validation',\n",
        "                                        class_mode='categorical')"
      ],
      "execution_count": null,
      "outputs": [
        {
          "output_type": "stream",
          "text": [
            "Found 563 images belonging to 8 classes.\n"
          ],
          "name": "stdout"
        }
      ]
    },
    {
      "cell_type": "code",
      "metadata": {
        "colab": {
          "base_uri": "https://localhost:8080/"
        },
        "id": "KdTEY5el5kWX",
        "outputId": "3abc2d11-e061-4e2e-ae7c-3e5b82ab2983"
      },
      "source": [
        "train_generator.class_indices"
      ],
      "execution_count": null,
      "outputs": [
        {
          "output_type": "execute_result",
          "data": {
            "text/plain": [
              "{'bag_Balenciaga_': 0,\n",
              " 'bag_Chanel_': 1,\n",
              " 'bag_Fendi_': 2,\n",
              " 'bag_Gucci_': 3,\n",
              " 'bag_Hermes_': 4,\n",
              " 'bag_LV_': 5,\n",
              " 'bag_Prada_': 6,\n",
              " 'bag_YSL_': 7}"
            ]
          },
          "metadata": {},
          "execution_count": 10
        }
      ]
    },
    {
      "cell_type": "code",
      "metadata": {
        "id": "Rnh24O_26CPF"
      },
      "source": [
        "import keras\n",
        "from keras.models import Sequential\n",
        "from keras.layers import Dense, Conv2D, MaxPooling2D, Flatten, InputLayer, Dropout\n",
        "from keras.applications.vgg16 import VGG16   \n"
      ],
      "execution_count": null,
      "outputs": []
    },
    {
      "cell_type": "code",
      "metadata": {
        "colab": {
          "base_uri": "https://localhost:8080/"
        },
        "id": "ezl-HV216CTU",
        "outputId": "c5d11caa-a56b-4fd0-97a1-5e94aa48d4ea"
      },
      "source": [
        "# transfer learning\n",
        "\n",
        "base = VGG16(weights='imagenet', include_top=False, input_shape=(150, 150, 3))   \n",
        "\n",
        "# Freeze convolutional layers\n",
        "for layer in base.layers:\n",
        "    layer.trainable = False  \n",
        "\n",
        "model8_v1 = Sequential(\n",
        "                        [InputLayer(input_shape=(150,150,3)),    \n",
        "                         base,\n",
        "                         Flatten(),    \n",
        "                         #Dense(1000, activation='relu'),  # add 1 more layer\n",
        "                         Dense(1000, activation='relu'),   \n",
        "                         Dense(1000, activation='relu'),   # add Dropout(0.05)             \n",
        "                         Dense(8, activation='softmax')]\n",
        "                       )\n",
        "\n",
        "model8_v1.compile(\n",
        "    loss='categorical_crossentropy',\n",
        "    optimizer='adam',\n",
        "    metrics=['accuracy'],\n",
        ")"
      ],
      "execution_count": null,
      "outputs": [
        {
          "output_type": "stream",
          "text": [
            "Downloading data from https://storage.googleapis.com/tensorflow/keras-applications/vgg16/vgg16_weights_tf_dim_ordering_tf_kernels_notop.h5\n",
            "58892288/58889256 [==============================] - 0s 0us/step\n",
            "58900480/58889256 [==============================] - 0s 0us/step\n"
          ],
          "name": "stdout"
        }
      ]
    },
    {
      "cell_type": "code",
      "metadata": {
        "colab": {
          "base_uri": "https://localhost:8080/"
        },
        "id": "3SCzV5xQ6CWY",
        "outputId": "ce76c6ff-23f1-4738-9b32-9099af42949c"
      },
      "source": [
        "result8_v1 = model8_v1.fit_generator(train_generator, \n",
        "                                            validation_data=val_generator, \n",
        "                                            epochs=20,  # 10\n",
        "                                            verbose=1)"
      ],
      "execution_count": null,
      "outputs": [
        {
          "output_type": "stream",
          "text": [
            "/usr/local/lib/python3.7/dist-packages/keras/engine/training.py:1972: UserWarning: `Model.fit_generator` is deprecated and will be removed in a future version. Please use `Model.fit`, which supports generators.\n",
            "  warnings.warn('`Model.fit_generator` is deprecated and '\n"
          ],
          "name": "stderr"
        },
        {
          "output_type": "stream",
          "text": [
            "Epoch 1/20\n",
            "71/71 [==============================] - 543s 7s/step - loss: 3.0137 - accuracy: 0.1995 - val_loss: 1.9574 - val_accuracy: 0.2806\n",
            "Epoch 2/20\n",
            "71/71 [==============================] - 18s 258ms/step - loss: 2.0285 - accuracy: 0.2176 - val_loss: 1.9168 - val_accuracy: 0.3055\n",
            "Epoch 3/20\n",
            "71/71 [==============================] - 19s 263ms/step - loss: 1.9261 - accuracy: 0.2440 - val_loss: 1.7270 - val_accuracy: 0.3233\n",
            "Epoch 4/20\n",
            "71/71 [==============================] - 19s 265ms/step - loss: 1.7252 - accuracy: 0.3553 - val_loss: 1.8555 - val_accuracy: 0.3517\n",
            "Epoch 5/20\n",
            "71/71 [==============================] - 19s 262ms/step - loss: 1.6511 - accuracy: 0.3778 - val_loss: 1.5793 - val_accuracy: 0.4227\n",
            "Epoch 6/20\n",
            "71/71 [==============================] - 18s 260ms/step - loss: 1.6122 - accuracy: 0.3910 - val_loss: 1.5586 - val_accuracy: 0.4121\n",
            "Epoch 7/20\n",
            "71/71 [==============================] - 19s 262ms/step - loss: 1.4453 - accuracy: 0.4629 - val_loss: 1.6887 - val_accuracy: 0.4103\n",
            "Epoch 8/20\n",
            "71/71 [==============================] - 18s 259ms/step - loss: 1.3207 - accuracy: 0.5432 - val_loss: 1.4429 - val_accuracy: 0.4778\n",
            "Epoch 9/20\n",
            "71/71 [==============================] - 19s 264ms/step - loss: 1.3185 - accuracy: 0.5177 - val_loss: 1.3869 - val_accuracy: 0.5204\n",
            "Epoch 10/20\n",
            "71/71 [==============================] - 18s 259ms/step - loss: 1.2146 - accuracy: 0.5649 - val_loss: 1.3260 - val_accuracy: 0.5240\n",
            "Epoch 11/20\n",
            "71/71 [==============================] - 18s 260ms/step - loss: 1.1860 - accuracy: 0.5763 - val_loss: 1.3561 - val_accuracy: 0.4973\n",
            "Epoch 12/20\n",
            "71/71 [==============================] - 19s 263ms/step - loss: 1.1531 - accuracy: 0.5834 - val_loss: 1.3213 - val_accuracy: 0.5453\n",
            "Epoch 13/20\n",
            "71/71 [==============================] - 19s 269ms/step - loss: 1.0458 - accuracy: 0.6258 - val_loss: 1.3288 - val_accuracy: 0.5542\n",
            "Epoch 14/20\n",
            "71/71 [==============================] - 19s 271ms/step - loss: 1.0594 - accuracy: 0.6258 - val_loss: 1.1336 - val_accuracy: 0.6057\n",
            "Epoch 15/20\n",
            "71/71 [==============================] - 18s 259ms/step - loss: 1.0120 - accuracy: 0.6280 - val_loss: 1.6525 - val_accuracy: 0.4742\n",
            "Epoch 16/20\n",
            "71/71 [==============================] - 18s 246ms/step - loss: 1.1477 - accuracy: 0.5706 - val_loss: 1.1756 - val_accuracy: 0.6004\n",
            "Epoch 17/20\n",
            "71/71 [==============================] - 17s 243ms/step - loss: 0.8984 - accuracy: 0.6703 - val_loss: 1.1554 - val_accuracy: 0.6092\n",
            "Epoch 18/20\n",
            "71/71 [==============================] - 18s 247ms/step - loss: 0.8692 - accuracy: 0.6955 - val_loss: 1.0546 - val_accuracy: 0.6519\n",
            "Epoch 19/20\n",
            "71/71 [==============================] - 18s 252ms/step - loss: 0.7539 - accuracy: 0.7290 - val_loss: 1.1355 - val_accuracy: 0.6217\n",
            "Epoch 20/20\n",
            "71/71 [==============================] - 17s 245ms/step - loss: 0.7316 - accuracy: 0.7392 - val_loss: 1.1876 - val_accuracy: 0.6163\n"
          ],
          "name": "stdout"
        }
      ]
    },
    {
      "cell_type": "code",
      "metadata": {
        "id": "OUcyK_4MmIFN"
      },
      "source": [
        "model8_v1.save('ff_bag_8_v1.h5')"
      ],
      "execution_count": null,
      "outputs": []
    },
    {
      "cell_type": "code",
      "metadata": {
        "id": "xVBG0IlS6P5U",
        "colab": {
          "base_uri": "https://localhost:8080/"
        },
        "outputId": "d0cfd2d4-2bee-43b1-cf82-15223d7da8e8"
      },
      "source": [
        "# add callback\n",
        "\n",
        "result8_vc1 = model8_v1.fit_generator(                \n",
        "        train_generator, validation_data=val_generator , epochs=100,  verbose=1,    \n",
        "        callbacks=[\n",
        "            keras.callbacks.EarlyStopping(patience=4, verbose=1, restore_best_weights=True),   \n",
        "            keras.callbacks.ReduceLROnPlateau(factor=.5, patience=3, verbose=1),              \n",
        "        ])"
      ],
      "execution_count": null,
      "outputs": [
        {
          "output_type": "stream",
          "text": [
            "/usr/local/lib/python3.7/dist-packages/keras/engine/training.py:1972: UserWarning: `Model.fit_generator` is deprecated and will be removed in a future version. Please use `Model.fit`, which supports generators.\n",
            "  warnings.warn('`Model.fit_generator` is deprecated and '\n"
          ],
          "name": "stderr"
        },
        {
          "output_type": "stream",
          "text": [
            "Epoch 1/100\n",
            "71/71 [==============================] - 18s 253ms/step - loss: 0.8057 - accuracy: 0.7207 - val_loss: 1.0843 - val_accuracy: 0.6607\n",
            "Epoch 2/100\n",
            "71/71 [==============================] - 17s 242ms/step - loss: 0.6475 - accuracy: 0.7877 - val_loss: 1.0295 - val_accuracy: 0.6643\n",
            "Epoch 3/100\n",
            "71/71 [==============================] - 17s 241ms/step - loss: 0.5786 - accuracy: 0.8049 - val_loss: 1.3555 - val_accuracy: 0.5790\n",
            "Epoch 4/100\n",
            "71/71 [==============================] - 17s 245ms/step - loss: 0.6757 - accuracy: 0.7520 - val_loss: 1.7101 - val_accuracy: 0.5346\n",
            "Epoch 5/100\n",
            "71/71 [==============================] - 17s 244ms/step - loss: 0.8415 - accuracy: 0.7008 - val_loss: 1.0813 - val_accuracy: 0.6661\n",
            "\n",
            "Epoch 00005: ReduceLROnPlateau reducing learning rate to 0.0005000000237487257.\n",
            "Epoch 6/100\n",
            "71/71 [==============================] - 17s 242ms/step - loss: 0.5218 - accuracy: 0.8305 - val_loss: 1.1258 - val_accuracy: 0.6767\n",
            "Restoring model weights from the end of the best epoch.\n",
            "Epoch 00006: early stopping\n"
          ],
          "name": "stdout"
        }
      ]
    },
    {
      "cell_type": "code",
      "metadata": {
        "id": "ZEeVhbn5Z5av"
      },
      "source": [
        "model8_v1.save('ff_bag_8_v2.h5')"
      ],
      "execution_count": null,
      "outputs": []
    },
    {
      "cell_type": "code",
      "metadata": {
        "id": "emSrw_Uh6QN8"
      },
      "source": [
        "# image augmentation\n",
        "\n",
        "train_datagen = ImageDataGenerator(\n",
        "      rescale=1./255,  \n",
        "      rotation_range=40,\n",
        "      width_shift_range=0.2,\n",
        "      height_shift_range=0.2,\n",
        "      shear_range=0.2,\n",
        "      zoom_range=0.2,\n",
        "      horizontal_flip=True,\n",
        "      fill_mode='nearest')\n",
        "\n",
        "\n",
        "val_datagen = ImageDataGenerator(rescale=1./255)"
      ],
      "execution_count": null,
      "outputs": []
    },
    {
      "cell_type": "code",
      "metadata": {
        "id": "dKzhPg3q6Ql8"
      },
      "source": [
        "train_dir = '/content/grive/My Drive/grive/farfetch/bag_8_img_aug/train'         \n",
        "val_dir = '/content/grive/My Drive/grive/farfetch/bag_8_img_aug/test'"
      ],
      "execution_count": null,
      "outputs": []
    },
    {
      "cell_type": "code",
      "metadata": {
        "id": "OHiN1dh_7aYn",
        "colab": {
          "base_uri": "https://localhost:8080/"
        },
        "outputId": "bc458469-fc3f-426c-9b8f-5b17a7491873"
      },
      "source": [
        "train_generator_aug = train_datagen.flow_from_directory( \n",
        "        train_dir,  \n",
        "        target_size=(150, 150),\n",
        "        batch_size=20,  #32\n",
        "        class_mode = 'categorical')\n",
        "\n",
        "\n",
        "val_generator_aug = val_datagen.flow_from_directory(\n",
        "        val_dir, \n",
        "        target_size=(150, 150),\n",
        "        batch_size=20,  #32\n",
        "        class_mode = 'categorical')"
      ],
      "execution_count": null,
      "outputs": [
        {
          "output_type": "stream",
          "text": [
            "Found 2260 images belonging to 8 classes.\n",
            "Found 569 images belonging to 8 classes.\n"
          ],
          "name": "stdout"
        }
      ]
    },
    {
      "cell_type": "code",
      "metadata": {
        "id": "GX8ut-5n7aic",
        "colab": {
          "base_uri": "https://localhost:8080/"
        },
        "outputId": "3cae26d0-16e4-406b-c5bb-96395780a721"
      },
      "source": [
        "result_aug = model8_v1.fit_generator(train_generator_aug, \n",
        "                         validation_data=val_generator_aug , \n",
        "                         epochs=10, \n",
        "                         verbose=1)"
      ],
      "execution_count": null,
      "outputs": [
        {
          "output_type": "stream",
          "text": [
            "/usr/local/lib/python3.7/dist-packages/keras/engine/training.py:1972: UserWarning: `Model.fit_generator` is deprecated and will be removed in a future version. Please use `Model.fit`, which supports generators.\n",
            "  warnings.warn('`Model.fit_generator` is deprecated and '\n"
          ],
          "name": "stderr"
        },
        {
          "output_type": "stream",
          "text": [
            "Epoch 1/10\n",
            "113/113 [==============================] - 472s 4s/step - loss: 1.6324 - accuracy: 0.4310 - val_loss: 0.7772 - val_accuracy: 0.7522\n",
            "Epoch 2/10\n",
            "113/113 [==============================] - 29s 253ms/step - loss: 1.4690 - accuracy: 0.4819 - val_loss: 0.7645 - val_accuracy: 0.7540\n",
            "Epoch 3/10\n",
            "113/113 [==============================] - 29s 253ms/step - loss: 1.3760 - accuracy: 0.5190 - val_loss: 0.7303 - val_accuracy: 0.7540\n",
            "Epoch 4/10\n",
            "113/113 [==============================] - 28s 252ms/step - loss: 1.3111 - accuracy: 0.5398 - val_loss: 0.7281 - val_accuracy: 0.7504\n",
            "Epoch 5/10\n",
            "113/113 [==============================] - 28s 251ms/step - loss: 1.2430 - accuracy: 0.5681 - val_loss: 0.6547 - val_accuracy: 0.7786\n",
            "Epoch 6/10\n",
            "113/113 [==============================] - 28s 251ms/step - loss: 1.2404 - accuracy: 0.5668 - val_loss: 0.7226 - val_accuracy: 0.7663\n",
            "Epoch 7/10\n",
            "113/113 [==============================] - 28s 250ms/step - loss: 1.2440 - accuracy: 0.5593 - val_loss: 0.6988 - val_accuracy: 0.7680\n",
            "Epoch 8/10\n",
            "113/113 [==============================] - 30s 261ms/step - loss: 1.1843 - accuracy: 0.5894 - val_loss: 0.7283 - val_accuracy: 0.7434\n",
            "Epoch 9/10\n",
            "113/113 [==============================] - 29s 259ms/step - loss: 1.1793 - accuracy: 0.5854 - val_loss: 0.6771 - val_accuracy: 0.7610\n",
            "Epoch 10/10\n",
            "113/113 [==============================] - 32s 284ms/step - loss: 1.1782 - accuracy: 0.5960 - val_loss: 0.6489 - val_accuracy: 0.7838\n"
          ],
          "name": "stdout"
        }
      ]
    },
    {
      "cell_type": "code",
      "metadata": {
        "id": "bXe-XBHg7aqO",
        "colab": {
          "base_uri": "https://localhost:8080/"
        },
        "outputId": "a94537eb-075b-4ad3-fab6-00f5007ca65d"
      },
      "source": [
        "# add callback \n",
        "\n",
        "result_aug_call = model8_v1.fit_generator(         # class_weight=None,       \n",
        "        train_generator_aug, validation_data=val_generator_aug , epochs=100,  verbose=1,  \n",
        "        callbacks=[\n",
        "            keras.callbacks.EarlyStopping(patience=4, verbose=1, restore_best_weights=True),  \n",
        "            keras.callbacks.ReduceLROnPlateau(factor=.5, patience=3, verbose=1),             \n",
        "        ])\n",
        "\n",
        "\n"
      ],
      "execution_count": null,
      "outputs": [
        {
          "output_type": "stream",
          "text": [
            "/usr/local/lib/python3.7/dist-packages/keras/engine/training.py:1972: UserWarning: `Model.fit_generator` is deprecated and will be removed in a future version. Please use `Model.fit`, which supports generators.\n",
            "  warnings.warn('`Model.fit_generator` is deprecated and '\n"
          ],
          "name": "stderr"
        },
        {
          "output_type": "stream",
          "text": [
            "Epoch 1/100\n",
            "113/113 [==============================] - 31s 275ms/step - loss: 1.1187 - accuracy: 0.6102 - val_loss: 0.6501 - val_accuracy: 0.7715\n",
            "Epoch 2/100\n",
            "113/113 [==============================] - 32s 287ms/step - loss: 1.0850 - accuracy: 0.6164 - val_loss: 0.6860 - val_accuracy: 0.7592\n",
            "Epoch 3/100\n",
            "113/113 [==============================] - 31s 274ms/step - loss: 1.0777 - accuracy: 0.6314 - val_loss: 0.6796 - val_accuracy: 0.7750\n",
            "Epoch 4/100\n",
            "113/113 [==============================] - 30s 265ms/step - loss: 1.1222 - accuracy: 0.6137 - val_loss: 0.6636 - val_accuracy: 0.7768\n",
            "\n",
            "Epoch 00004: ReduceLROnPlateau reducing learning rate to 0.0002500000118743628.\n",
            "Epoch 5/100\n",
            "113/113 [==============================] - 30s 265ms/step - loss: 1.0253 - accuracy: 0.6447 - val_loss: 0.6577 - val_accuracy: 0.7838\n",
            "Restoring model weights from the end of the best epoch.\n",
            "Epoch 00005: early stopping\n"
          ],
          "name": "stdout"
        }
      ]
    },
    {
      "cell_type": "code",
      "metadata": {
        "id": "V0TKISjgmQXl"
      },
      "source": [
        "model8_v1.save('ff_bag_8_v3.h5')"
      ],
      "execution_count": null,
      "outputs": []
    },
    {
      "cell_type": "code",
      "metadata": {
        "id": "LKmiQbtR7bHh",
        "colab": {
          "base_uri": "https://localhost:8080/"
        },
        "outputId": "963e1dfd-6be2-4f86-83d6-4917f23c56f2"
      },
      "source": [
        "# add dropout\n",
        "model8_v1.add(Dense(512, activation='relu'))\n",
        "model8_v1.add(Dropout(.05))   #\n",
        "model8_v1.add(Dense(8, activation='softmax')) \n",
        "\n",
        "result_aug_5 = model8_v1.fit_generator(train_generator_aug, \n",
        "                         validation_data=val_generator_aug , \n",
        "                         epochs=10, \n",
        "                         verbose=1)"
      ],
      "execution_count": null,
      "outputs": [
        {
          "output_type": "stream",
          "text": [
            "/usr/local/lib/python3.7/dist-packages/keras/engine/training.py:1972: UserWarning: `Model.fit_generator` is deprecated and will be removed in a future version. Please use `Model.fit`, which supports generators.\n",
            "  warnings.warn('`Model.fit_generator` is deprecated and '\n"
          ],
          "name": "stderr"
        },
        {
          "output_type": "stream",
          "text": [
            "Epoch 1/10\n",
            "113/113 [==============================] - 30s 270ms/step - loss: 1.1009 - accuracy: 0.6190 - val_loss: 0.6349 - val_accuracy: 0.7750\n",
            "Epoch 2/10\n",
            "113/113 [==============================] - 29s 256ms/step - loss: 1.0623 - accuracy: 0.6301 - val_loss: 0.6428 - val_accuracy: 0.7750\n",
            "Epoch 3/10\n",
            "113/113 [==============================] - 29s 254ms/step - loss: 1.0427 - accuracy: 0.6363 - val_loss: 0.6622 - val_accuracy: 0.7557\n",
            "Epoch 4/10\n",
            "113/113 [==============================] - 31s 276ms/step - loss: 1.0422 - accuracy: 0.6376 - val_loss: 0.6388 - val_accuracy: 0.7821\n",
            "Epoch 5/10\n",
            "113/113 [==============================] - 31s 273ms/step - loss: 1.0293 - accuracy: 0.6350 - val_loss: 0.6350 - val_accuracy: 0.7873\n",
            "Epoch 6/10\n",
            "113/113 [==============================] - 29s 260ms/step - loss: 1.0281 - accuracy: 0.6403 - val_loss: 0.6529 - val_accuracy: 0.7768\n",
            "Epoch 7/10\n",
            "113/113 [==============================] - 29s 255ms/step - loss: 1.0029 - accuracy: 0.6558 - val_loss: 0.6313 - val_accuracy: 0.7821\n",
            "Epoch 8/10\n",
            "113/113 [==============================] - 29s 260ms/step - loss: 1.0059 - accuracy: 0.6513 - val_loss: 0.6259 - val_accuracy: 0.7873\n",
            "Epoch 9/10\n",
            "113/113 [==============================] - 29s 256ms/step - loss: 1.0230 - accuracy: 0.6389 - val_loss: 0.6642 - val_accuracy: 0.7645\n",
            "Epoch 10/10\n",
            "113/113 [==============================] - 29s 255ms/step - loss: 0.9920 - accuracy: 0.6535 - val_loss: 0.6426 - val_accuracy: 0.7838\n"
          ],
          "name": "stdout"
        }
      ]
    },
    {
      "cell_type": "code",
      "metadata": {
        "id": "S5srtLfD7bQ2",
        "colab": {
          "base_uri": "https://localhost:8080/"
        },
        "outputId": "b321be15-90de-4dc8-824d-94ba7531f20f"
      },
      "source": [
        "# add dropout more\n",
        "\n",
        "model8_v1.add(Dense(512, activation='relu'))\n",
        "model8_v1.add(Dropout(.1))   #\n",
        "model8_v1.add(Dense(6, activation='softmax')) \n",
        "\n",
        "result_aug_6 = model8_v1.fit_generator(train_generator_aug, \n",
        "                         validation_data=val_generator_aug , \n",
        "                         epochs=10, \n",
        "                         verbose=1)"
      ],
      "execution_count": null,
      "outputs": [
        {
          "output_type": "stream",
          "text": [
            "/usr/local/lib/python3.7/dist-packages/keras/engine/training.py:1972: UserWarning: `Model.fit_generator` is deprecated and will be removed in a future version. Please use `Model.fit`, which supports generators.\n",
            "  warnings.warn('`Model.fit_generator` is deprecated and '\n"
          ],
          "name": "stderr"
        },
        {
          "output_type": "stream",
          "text": [
            "Epoch 1/10\n",
            "113/113 [==============================] - 30s 267ms/step - loss: 0.9829 - accuracy: 0.6575 - val_loss: 0.6538 - val_accuracy: 0.7733\n",
            "Epoch 2/10\n",
            "113/113 [==============================] - 31s 279ms/step - loss: 0.9837 - accuracy: 0.6588 - val_loss: 0.6355 - val_accuracy: 0.7838\n",
            "Epoch 3/10\n",
            "113/113 [==============================] - 31s 277ms/step - loss: 0.9678 - accuracy: 0.6549 - val_loss: 0.6455 - val_accuracy: 0.7768\n",
            "Epoch 4/10\n",
            "113/113 [==============================] - 31s 277ms/step - loss: 0.9529 - accuracy: 0.6695 - val_loss: 0.6298 - val_accuracy: 0.7838\n",
            "Epoch 5/10\n",
            "113/113 [==============================] - 32s 281ms/step - loss: 0.9823 - accuracy: 0.6588 - val_loss: 0.6348 - val_accuracy: 0.7768\n",
            "Epoch 6/10\n",
            "113/113 [==============================] - 32s 280ms/step - loss: 0.9714 - accuracy: 0.6584 - val_loss: 0.6342 - val_accuracy: 0.7803\n",
            "Epoch 7/10\n",
            "113/113 [==============================] - 31s 276ms/step - loss: 0.9177 - accuracy: 0.6810 - val_loss: 0.6321 - val_accuracy: 0.7926\n",
            "Epoch 8/10\n",
            "113/113 [==============================] - 30s 270ms/step - loss: 0.9476 - accuracy: 0.6752 - val_loss: 0.6775 - val_accuracy: 0.7768\n",
            "Epoch 9/10\n",
            "113/113 [==============================] - 28s 251ms/step - loss: 0.9334 - accuracy: 0.6779 - val_loss: 0.6170 - val_accuracy: 0.7979\n",
            "Epoch 10/10\n",
            "113/113 [==============================] - 28s 252ms/step - loss: 0.9052 - accuracy: 0.6823 - val_loss: 0.6277 - val_accuracy: 0.7944\n"
          ],
          "name": "stdout"
        }
      ]
    },
    {
      "cell_type": "code",
      "metadata": {
        "id": "IRWNfS_E6K9Q"
      },
      "source": [
        "model8_v1.save('ff_bag_8_v4.h5')"
      ],
      "execution_count": null,
      "outputs": []
    },
    {
      "cell_type": "code",
      "metadata": {
        "id": "p3W6-fUH8Hmc"
      },
      "source": [
        "# best model \n",
        "\n",
        "# 1. metric\n",
        "\n",
        "# change RESULT\n",
        "\n",
        "acc = result_NN_t.history['accuracy']\n",
        "val_acc = result_NN_t.history['val_accuracy']\n",
        "\n",
        "loss = result_NN_t.history['loss']\n",
        "val_loss = result_NN_t.history['val_loss']\n",
        "\n",
        "\n",
        "epochs_range = range(epochs)\n",
        "\n",
        "\n",
        "plt.figure(figsize=(10,4))\n",
        "\n",
        "plt.subplot(1,2,1)\n",
        "plt.plot(epochs_range, acc, label='Training Accuracy') #, color = 'red')\n",
        "plt.plot(epochs_range, val_acc, label='Validation Accuracy')  # , color='blue')\n",
        "plt.legend(loc='lower right')\n",
        "plt.title('Training and Validation Accuracy')\n",
        "\n",
        "\n",
        "plt.subplot(1, 2, 2)\n",
        "plt.plot(epochs_range, loss, label='Training Loss')\n",
        "plt.plot(epochs_range, val_loss, label='Validation Loss')\n",
        "plt.legend(loc='upper right')\n",
        "plt.title('Training and Validation Loss')\n",
        "\n",
        "plt.show()"
      ],
      "execution_count": null,
      "outputs": []
    },
    {
      "cell_type": "code",
      "metadata": {
        "id": "PtJc9IL68HuK"
      },
      "source": [
        "# 2. confusion matrix\n",
        "from sklearn.metrics import confusion_matrix"
      ],
      "execution_count": null,
      "outputs": []
    },
    {
      "cell_type": "code",
      "metadata": {
        "id": "YNs_INLE8H2M"
      },
      "source": [
        "# 3. Classification report"
      ],
      "execution_count": null,
      "outputs": []
    }
  ]
}